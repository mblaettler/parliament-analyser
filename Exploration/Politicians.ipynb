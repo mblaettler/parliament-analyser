{
 "cells": [
  {
   "cell_type": "code",
   "execution_count": null,
   "metadata": {
    "collapsed": true
   },
   "outputs": [],
   "source": [
    "import pandas as pd\n",
    "from elasticsearch import Elasticsearch\n",
    "from pandas import json_normalize\n",
    "import plotly.express as px\n",
    "from datetime import datetime"
   ]
  },
  {
   "cell_type": "code",
   "execution_count": null,
   "outputs": [],
   "source": [
    "es = Elasticsearch(hosts=\"http://127.0.0.1:9200\")"
   ],
   "metadata": {
    "collapsed": false
   }
  },
  {
   "cell_type": "code",
   "execution_count": null,
   "outputs": [],
   "source": [
    "res = es.search(query={\n",
    "    \"bool\": {\n",
    "        \"must\": [\n",
    "            { \"exists\": { \"field\": \"party\" }},\n",
    "            { \"match\": { \"active\": \"true\" }},\n",
    "        ],\n",
    "    }},\n",
    "    index=\"parliament.politicians\", size=1000)\n",
    "data = json_normalize(res[\"hits\"][\"hits\"])"
   ],
   "metadata": {
    "collapsed": false
   }
  },
  {
   "cell_type": "code",
   "execution_count": null,
   "outputs": [],
   "source": [
    "others_party_list = list(data[\"_source.party\"].value_counts()[data[\"_source.party\"].value_counts() < 10].index)\n",
    "data.loc[data[\"_source.party\"].isin(others_party_list), \"_source.party\"] = \"Sonstige\"\n"
   ],
   "metadata": {
    "collapsed": false
   }
  },
  {
   "cell_type": "code",
   "execution_count": null,
   "outputs": [],
   "source": [
    "px.sunburst(data, path=[\"_source.party\", \"_source.gender\"])"
   ],
   "metadata": {
    "collapsed": false
   }
  },
  {
   "cell_type": "code",
   "execution_count": null,
   "outputs": [],
   "source": [
    "data.head()"
   ],
   "metadata": {
    "collapsed": false
   }
  },
  {
   "cell_type": "code",
   "execution_count": null,
   "outputs": [],
   "source": [
    "data[\"_source.birthDate\"] = pd.to_datetime(data[\"_source.birthDate\"])\n",
    "data[\"age\"] = (datetime.now().year - data[\"_source.birthDate\"].dt.year)"
   ],
   "metadata": {
    "collapsed": false
   }
  },
  {
   "cell_type": "code",
   "execution_count": null,
   "outputs": [],
   "source": [
    "px.histogram(data, x=\"age\", color=\"_source.party\", barmode=\"group\", histnorm=\"percent\")"
   ],
   "metadata": {
    "collapsed": false
   }
  },
  {
   "cell_type": "code",
   "execution_count": null,
   "outputs": [],
   "source": [],
   "metadata": {
    "collapsed": false
   }
  }
 ],
 "metadata": {
  "kernelspec": {
   "display_name": "Python 3",
   "language": "python",
   "name": "python3"
  },
  "language_info": {
   "codemirror_mode": {
    "name": "ipython",
    "version": 2
   },
   "file_extension": ".py",
   "mimetype": "text/x-python",
   "name": "python",
   "nbconvert_exporter": "python",
   "pygments_lexer": "ipython2",
   "version": "2.7.6"
  }
 },
 "nbformat": 4,
 "nbformat_minor": 0
}
